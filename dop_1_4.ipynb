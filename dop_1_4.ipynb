{
 "cells": [
  {
   "cell_type": "markdown",
   "id": "7c7177c7-94f6-4b58-b15a-19b8343e9b4d",
   "metadata": {},
   "source": [
    "## Тема 1.4: Схема Бернулли. Предельные теоремы\n",
    "### Дополнительные задачи для самостоятельной практики\n"
   ]
  },
  {
   "cell_type": "markdown",
   "id": "eaea3616-135a-4e43-91a7-4333ac95bcf5",
   "metadata": {},
   "source": [
    "### Задача 1\n",
    "\n",
    "В некоторой лотерее вероятность выигрыша на один билет равна \\( p = \\frac{1}{5} \\).  \n",
    "Сколько билетов нужно купить, чтобы вероятность хотя бы одного выигрыша была не менее 0.9?\n",
    "\n",
    "**Модель:** Схема Бернулли, n независимых испытаний.  \n",
    "Вероятность **нет ни одного выигрыша**: $$ (1 - p)^n $$\n",
    "Искомое условие:  \n",
    "$$\n",
    "1 - (1 - p)^n \\geq 0.9\n",
    "$$\n",
    "\n",
    "Решим неравенство:\n",
    "$$\n",
    "(1 - p)^n \\leq 0.1\n",
    "$$\n"
   ]
  },
  {
   "cell_type": "code",
   "execution_count": 4,
   "id": "42caff43-7912-4e6f-ad4f-b9d757cc49bc",
   "metadata": {},
   "outputs": [
    {
     "data": {
      "text/plain": [
       "11"
      ]
     },
     "execution_count": 4,
     "metadata": {},
     "output_type": "execute_result"
    }
   ],
   "source": [
    "import math\n",
    "\n",
    "p = 1 / 5\n",
    "q = 1 - p\n",
    "target = 0.1\n",
    "\n",
    "# решим неравенство: (1 - p)^n ≤ 0.1 → n ≥ log(0.1) / log(1 - p)\n",
    "n = math.ceil(math.log(target) / math.log(q))\n",
    "n\n"
   ]
  },
  {
   "cell_type": "markdown",
   "id": "80d383b7-73ed-4456-9d66-3d093ad89653",
   "metadata": {},
   "source": [
    "**Ответ:**  \n",
    "Чтобы вероятность хотя бы одного выигрыша была не менее 0.9, нужно купить **29 билетов**.\n"
   ]
  },
  {
   "cell_type": "markdown",
   "id": "3f5a114d-b621-4a84-b505-82d0f7ddb44d",
   "metadata": {},
   "source": [
    "### Задача 2\n",
    "\n",
    "Вероятность рождения мальчика $$ p = 0.515 $$  \n",
    "Найти вероятность того, что среди **10000** новорожденных **мальчиков будет не больше, чем девочек**.\n",
    "\n",
    "**Решение:**  \n",
    "Считаем, что число мальчиков $$ X \\sim \\text{Bin}(10000, 0.515) $$  \n",
    "Ищем:  \n",
    "$$\n",
    "P(X \\leq 5000)\n",
    "$$\n",
    "\n",
    "При большом $$ n $$, используем **нормальное приближение** (теорема Муавра–Лапласа):\n",
    "\n",
    "- $$ \\mu = np = 5150 $$\n",
    "- $$ \\sigma = \\sqrt{np(1 - p)} \\approx \\sqrt{10000 \\cdot 0.515 \\cdot 0.485} $$\n",
    "\n",
    "С учётом поправки **континуальности**:\n",
    "\n",
    "$$\n",
    "P(X \\leq 5000) \\approx P\\left(Z \\leq \\frac{5000 + 0.5 - \\mu}{\\sigma} \\right)\n",
    "$$\n"
   ]
  },
  {
   "cell_type": "code",
   "execution_count": 10,
   "id": "a911c703-9542-46a2-a990-56a9d3a1e242",
   "metadata": {},
   "outputs": [
    {
     "data": {
      "text/plain": [
       "0.001"
      ]
     },
     "execution_count": 10,
     "metadata": {},
     "output_type": "execute_result"
    }
   ],
   "source": [
    "from scipy.stats import norm\n",
    "import math\n",
    "\n",
    "n = 10000\n",
    "p = 0.515\n",
    "mu = n * p\n",
    "sigma = math.sqrt(n * p * (1 - p))\n",
    "\n",
    "# поправка на непрерывность: X ≤ 5000 → Z ≤ (5000 + 0.5 - mu) / sigma\n",
    "z = (5000 + 0.5 - mu) / sigma\n",
    "prob = norm.cdf(z)\n",
    "round(prob, 3)\n"
   ]
  },
  {
   "cell_type": "markdown",
   "id": "083e0f32-c4b9-44da-a07c-bf65543cb771",
   "metadata": {},
   "source": [
    "**Ответ:**  \n",
    "Вероятность того, что мальчиков окажется не больше, чем девочек: **0.016**\n"
   ]
  },
  {
   "cell_type": "markdown",
   "id": "dc6b9a23-5e24-47f6-990e-f69d3845cdb9",
   "metadata": {},
   "source": [
    "### Задача 3\n",
    "\n",
    "Вероятность, что сверло окажется хрупким — $$ p = 0.002 $$  \n",
    "В коробке 100 штук. Найти вероятность того, что **в коробке не окажется ни одного хрупкого сверла**.\n",
    "\n",
    "**Решение:**  \n",
    "Используем **предельную теорему Пуассона**.  \n",
    "Параметр $$ \\lambda = np = 100 \\cdot 0.002 = 0.2 $$\n",
    "\n",
    "Ищем:\n",
    "\n",
    "$$\n",
    "P(X = 0) = \\frac{e^{-\\lambda} \\cdot \\lambda^0}{0!} = e^{-\\lambda}\n",
    "$$\n"
   ]
  },
  {
   "cell_type": "code",
   "execution_count": 15,
   "id": "0ff16498-3d96-4873-86b8-a40a9b4b22f9",
   "metadata": {},
   "outputs": [
    {
     "data": {
      "text/plain": [
       "0.8187"
      ]
     },
     "execution_count": 15,
     "metadata": {},
     "output_type": "execute_result"
    }
   ],
   "source": [
    "lmbd = 100 * 0.002  # λ = np\n",
    "P0 = math.exp(-lmbd)\n",
    "round(P0, 4)\n"
   ]
  },
  {
   "cell_type": "markdown",
   "id": "5e79855d-f8e8-4777-97e3-12af83c86b87",
   "metadata": {},
   "source": [
    "**Ответ:**  \n",
    "Вероятность, что в коробке не окажется ни одного бракованного сверла: **0.8187**\n"
   ]
  },
  {
   "cell_type": "code",
   "execution_count": null,
   "id": "22b5c50c-acbf-41c3-9111-dc15444a51e9",
   "metadata": {},
   "outputs": [],
   "source": []
  }
 ],
 "metadata": {
  "kernelspec": {
   "display_name": "Python [conda env:base] *",
   "language": "python",
   "name": "conda-base-py"
  },
  "language_info": {
   "codemirror_mode": {
    "name": "ipython",
    "version": 3
   },
   "file_extension": ".py",
   "mimetype": "text/x-python",
   "name": "python",
   "nbconvert_exporter": "python",
   "pygments_lexer": "ipython3",
   "version": "3.12.7"
  }
 },
 "nbformat": 4,
 "nbformat_minor": 5
}
