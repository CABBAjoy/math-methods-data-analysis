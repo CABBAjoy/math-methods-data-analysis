{
 "cells": [
  {
   "cell_type": "markdown",
   "id": "4be5c8da-7a79-4595-a592-3c39cfe2eab5",
   "metadata": {},
   "source": [
    "## Тема 1.3: Условная вероятность, независимость и формула Байеса\n",
    "### Дополнительные задачи для самостоятельной практики\n"
   ]
  },
  {
   "cell_type": "markdown",
   "id": "f90b1d2e-2a21-4fc5-bfb5-19d63460dbf5",
   "metadata": {},
   "source": [
    "### Задача 1\n",
    "\n",
    "**Условие:**  \n",
    "Брошены три игральные кости. Какова вероятность, что **на одной из них выпала единица**, если известно, что **все выпали с разными числами**?\n",
    "\n",
    "**Решение:**\n",
    "\n",
    "Обозначим:  \n",
    "- Всего возможно выбрать 3 различных числа от 1 до 6 — это количество размещений без повторений из 6 по 3:  \n",
    "\n",
    "$$\n",
    "|B| = A_6^3 = 6 \\cdot 5 \\cdot 4 = 120\n",
    "$$\n",
    "\n",
    "- Событие A: среди этих трёх **одна из граней — единица**\n",
    "\n",
    "Найдем количество благоприятных исходов:\n",
    "- Зафиксируем, что **единица есть**, а две другие — любые отличные от неё.\n",
    "- Выбираем 2 числа из оставшихся 5 (без 1): $$\n",
    "C_5^2 = 10\n",
    "$$\n",
    "\n",
    "- Количество перестановок троек (1, x, y): \\( 3! = 6 \\)\n",
    "- Итого: $$ 10 \\cdot 6 = 60 $$\n",
    "\n",
    "Искомая условная вероятность:\n",
    "\n",
    "$$\n",
    "P(A|B) = \\frac{|A \\cap B|}{|B|} = \\frac{60}{120} = 0.5\n",
    "$$\n"
   ]
  },
  {
   "cell_type": "code",
   "execution_count": 4,
   "id": "524df612-9c68-4150-b076-3ad91b59d3f3",
   "metadata": {},
   "outputs": [
    {
     "data": {
      "text/plain": [
       "0.5"
      ]
     },
     "execution_count": 4,
     "metadata": {},
     "output_type": "execute_result"
    }
   ],
   "source": [
    "from math import comb, perm, factorial\n",
    "\n",
    "# Общее число исходов, где три разные грани (размещения из 6 по 3)\n",
    "total_diff_faces = perm(6, 3)  # A_6^3 = 6 * 5 * 4 = 120\n",
    "\n",
    "# Число благоприятных исходов: одна единица и две другие любые без повторений\n",
    "favorable = comb(5, 2) * factorial(3)  # C_5^2 * 3! = 10 * 6 = 60\n",
    "\n",
    "# Условная вероятность\n",
    "conditional_probability = favorable / total_diff_faces\n",
    "conditional_probability\n"
   ]
  },
  {
   "cell_type": "markdown",
   "id": "08e4aea4-7f2b-4e91-93d0-23c83fe097ae",
   "metadata": {},
   "source": [
    "### Ответ:  \n",
    "Вероятность того, что на одной из костей выпала единица, при условии, что выпали разные числа:  \n",
    "**0.5**\n"
   ]
  },
  {
   "cell_type": "markdown",
   "id": "acd46b1b-c043-457a-a281-559848318da3",
   "metadata": {},
   "source": [
    "### Задача 2\n",
    "\n",
    "**Условие:**  \n",
    "Из колоды в 36 карт случайно выбираются две карты. Какова вероятность того, что они окажутся одной масти?\n",
    "\n",
    "**Решение:**\n",
    "\n",
    "Всего 4 масти, по 9 карт.  \n",
    "- Общее число сочетаний:\n",
    "\n",
    "$$\n",
    "C_{36}^{2} = 630\n",
    "$$\n",
    "\n",
    "- В каждой масти:\n",
    "\n",
    "$$\n",
    "C_9^2 = 36\n",
    "$$\n",
    "\n",
    "- Всего благоприятных исходов: $$ 4 \\cdot 36 = 144 $$\n",
    "\n",
    "Искомая вероятность:\n",
    "\n",
    "$$\n",
    "P = \\frac{144}{630} = 0.2286\n",
    "$$\n"
   ]
  },
  {
   "cell_type": "code",
   "execution_count": 18,
   "id": "a9bea089-56de-4cf8-ab84-2687d17b2961",
   "metadata": {},
   "outputs": [
    {
     "data": {
      "text/plain": [
       "0.2286"
      ]
     },
     "execution_count": 18,
     "metadata": {},
     "output_type": "execute_result"
    }
   ],
   "source": [
    "from math import comb\n",
    "\n",
    "total = comb(36, 2)\n",
    "favorable = 4 * comb(9, 2)\n",
    "prob = favorable / total\n",
    "round(prob, 4)\n"
   ]
  },
  {
   "cell_type": "markdown",
   "id": "b633ff39-e5db-489b-a483-abb1e77d001f",
   "metadata": {},
   "source": [
    "## Ответ:  \n",
    "Вероятность того, что две карты окажутся одной масти: **0.2286**\n"
   ]
  },
  {
   "cell_type": "code",
   "execution_count": null,
   "id": "017557d3-e154-4236-bf24-e0f3f99fd4cd",
   "metadata": {},
   "outputs": [],
   "source": []
  }
 ],
 "metadata": {
  "kernelspec": {
   "display_name": "Python [conda env:base] *",
   "language": "python",
   "name": "conda-base-py"
  },
  "language_info": {
   "codemirror_mode": {
    "name": "ipython",
    "version": 3
   },
   "file_extension": ".py",
   "mimetype": "text/x-python",
   "name": "python",
   "nbconvert_exporter": "python",
   "pygments_lexer": "ipython3",
   "version": "3.12.7"
  }
 },
 "nbformat": 4,
 "nbformat_minor": 5
}
