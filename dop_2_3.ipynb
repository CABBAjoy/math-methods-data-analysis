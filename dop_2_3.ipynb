{
 "cells": [
  {
   "cell_type": "markdown",
   "id": "bc749b57-2a3a-4e8f-a572-87c74510eefb",
   "metadata": {},
   "source": [
    "### Задание 2.3.1. Оценка вероятности по неравенству Чебышева\n",
    "\n",
    "**Условие:**\n",
    "\n",
    "Пусть случайная величина $$ \\eta_n $$ — это сумма очков, появившихся при $$ n $$ независимых подбрасываниях честной шестигранной игральной кости.\n",
    "\n",
    "Оценить вероятность:\n",
    "\n",
    "$$\n",
    "P\\left( \\left| \\frac{\\eta_n}{n} - 3.5 \\right| > \\varepsilon \\right)\n",
    "$$\n",
    "\n",
    "используя **неравенство Чебышёва**, при следующих значениях:\n",
    "\n",
    "- $$ n = 10 $$\n",
    "- $$ \\varepsilon = 1 $$\n",
    "\n"
   ]
  },
  {
   "cell_type": "markdown",
   "id": "d9582100-fa84-4940-b83d-8e54ba39391c",
   "metadata": {},
   "source": [
    "#### Шаг 1. Теоретические значения\n",
    "\n",
    "Для одной кости $$ X_i ,  i = 1, \\dots, n $$\n",
    "\n",
    "- Возможные значения: 1, 2, 3, 4, 5, 6\n",
    "- Математическое ожидание:\n",
    "  $$\n",
    "  E[X_i] = \\frac{1 + 2 + 3 + 4 + 5 + 6}{6} = 3.5\n",
    "  $$\n",
    "\n",
    "- Дисперсия:\n",
    "  $$\n",
    "  D[X_i] = E[X_i^2] - (E[X_i])^2 = \\frac{1^2 + 2^2 + \\dots + 6^2}{6} - 3.5^2 = \\frac{91}{6} - 12.25 = \\frac{35}{12}\n",
    "  $$\n",
    "\n",
    "Сумма $$ \\eta_n = X_1 + \\dots + X_n  $$ тогда:\n",
    "\n",
    "\n",
    "-  $$ E[\\eta_n] = n \\cdot 3.5 $$\n",
    "- $$ D[\\eta_n] = n \\cdot \\frac{35}{12} $$\n",
    "\n",
    "Выборочное среднее:\n",
    "$$\n",
    "\\bar{X}_n = \\frac{\\eta_n}{n}\n",
    "$$\n",
    "\n",
    "Тогда дисперсия $$ \\bar{X}_n : $$\n",
    "$$\n",
    "D\\left[ \\frac{\\eta_n}{n} \\right] = \\frac{D[\\eta_n]}{n^2} = \\frac{n \\cdot \\frac{35}{12}}{n^2} = \\frac{35}{12n}\n",
    "$$\n"
   ]
  },
  {
   "cell_type": "code",
   "execution_count": 13,
   "id": "ef0c01e8-79aa-4dca-ae7e-8063c2fd6dce",
   "metadata": {},
   "outputs": [
    {
     "data": {
      "text/plain": [
       "(0.2916666666666667, 0.2917)"
      ]
     },
     "execution_count": 13,
     "metadata": {},
     "output_type": "execute_result"
    }
   ],
   "source": [
    "from sympy import Rational\n",
    "\n",
    "# Дано:\n",
    "n = 10\n",
    "epsilon = 1\n",
    "\n",
    "# Дисперсия одного броска\n",
    "Dx = Rational(35, 12)\n",
    "\n",
    "# Дисперсия среднего\n",
    "D_mean = Dx / n\n",
    "\n",
    "# Оценка по неравенству Чебышёва\n",
    "P_upper = D_mean / epsilon**2\n",
    "float(P_upper), round(P_upper.evalf(), 4)\n"
   ]
  },
  {
   "cell_type": "markdown",
   "id": "6aec3e83-1516-4fc8-af27-0fa8bbfdd2fd",
   "metadata": {},
   "source": [
    "### Ответ:\n",
    "\n",
    "Согласно неравенству Чебышева:\n",
    "\n",
    "$$\n",
    "P\\left( \\left| \\frac{\\eta_{10}}{10} - 3.5 \\right| > 1 \\right) \\leq \\frac{35}{120} \\approx \\boxed{0.2917}\n",
    "$$\n",
    "\n",
    "То есть, вероятность того, что среднее значение отклонится от математического ожидания больше чем на 1, **не превышает 29.17%**.\n"
   ]
  },
  {
   "cell_type": "code",
   "execution_count": null,
   "id": "3f82485c-81da-49c7-ab07-745e82efaf36",
   "metadata": {},
   "outputs": [],
   "source": []
  },
  {
   "cell_type": "markdown",
   "id": "90886693-1bee-495f-bf86-b717455e8131",
   "metadata": {},
   "source": [
    "#### Задание 2.3.2. Закон больших чисел и независимые случайные величины\n",
    "\n",
    "**Условие:**\n",
    "\n",
    "Пусть дана последовательность независимых случайных величин $$ (\\xi_k)_{k=1}^{\\infty} $$ причём:\n",
    "\n",
    "$$\n",
    "P(\\xi_k = \\sqrt{k}) = P(\\xi_k = -\\sqrt{k}) = \\frac{1}{2\\sqrt{k}}, \\quad\n",
    "P(\\xi_k = 0) = 1 - \\frac{1}{\\sqrt{k}}\n",
    "$$\n",
    "\n",
    "Нужно определить, **выполняется ли закон больших чисел** для этой последовательности $$ \\xi_k $$\n",
    "\n"
   ]
  },
  {
   "cell_type": "markdown",
   "id": "481866db-4af2-4bd0-9603-e65ea1be36c5",
   "metadata": {},
   "source": [
    "#### Закон больших чисел в форме Маркова\n",
    "\n",
    "Если последовательность случайных величин ξₖ является независимой и удовлетворяет условиям:\n",
    "\n",
    "- математическое ожидание E[ξₖ] существует (конечно),\n",
    "- и выполнено:\n",
    "  \n",
    "  $$\n",
    "  \\sum_{k=1}^{\\infty} \\frac{\\text{Var}[ξ_k]}{k^2} < \\infty,\n",
    "  $$\n",
    "\n",
    "то выполняется **закон больших чисел** в форме Маркова для последовательности средних:\n",
    "\n",
    "$$\n",
    "\\frac{1}{n} \\sum_{k=1}^{n} ξ_k \\to 0 \\quad \\text{(по вероятности)}\n",
    "$$\n",
    "\n",
    "---\n",
    "\n",
    "### Шаг 1. Математическое ожидание и дисперсия\n",
    "\n",
    "Каждая случайная величина ξₖ принимает три значения:\n",
    "\n",
    "- ±√k с вероятностью 1 / (2√k),\n",
    "- 0 с вероятностью 1 − (1 / √k).\n",
    "\n",
    "---\n",
    "\n",
    "#### Математическое ожидание:\n",
    "\n",
    "$$\n",
    "E[ξ_k] = \\sqrt{k} \\cdot \\frac{1}{2\\sqrt{k}} + (-\\sqrt{k}) \\cdot \\frac{1}{2\\sqrt{k}} + 0 \\cdot \\left(1 - \\frac{1}{\\sqrt{k}}\\right) = 0\n",
    "$$\n",
    "\n",
    "---\n",
    "\n",
    "#### Дисперсия:\n",
    "\n",
    "$$\n",
    "E[ξ_k^2] = (\\sqrt{k})^2 \\cdot \\frac{1}{2\\sqrt{k}} + (-\\sqrt{k})^2 \\cdot \\frac{1}{2\\sqrt{k}} = k \\cdot \\left( \\frac{1}{\\sqrt{k}} \\right) = \\sqrt{k}\n",
    "$$\n",
    "\n",
    "#### Значит:\n",
    "\n",
    "$$\n",
    "\\text{Var}[ξ_k] = E[ξ_k^2] - (E[ξ_k])^2 = \\sqrt{k}\n",
    "$$\n"
   ]
  },
  {
   "cell_type": "code",
   "execution_count": 27,
   "id": "fea12142-9135-4d14-a67d-6eb4be86e5ea",
   "metadata": {},
   "outputs": [
    {
     "data": {
      "text/latex": [
       "$\\displaystyle 2.61237534868549$"
      ],
      "text/plain": [
       "2.61237534868549"
      ]
     },
     "execution_count": 27,
     "metadata": {},
     "output_type": "execute_result"
    }
   ],
   "source": [
    "from sympy import symbols, Sum, sqrt, oo\n",
    "\n",
    "k = symbols('k', integer=True, positive=True)\n",
    "term = sqrt(k) / k**2  # Var[ξ_k] / k²\n",
    "series = Sum(term, (k, 1, oo))\n",
    "series.doit().evalf()\n"
   ]
  },
  {
   "cell_type": "markdown",
   "id": "2d3944fa-c4d7-47ae-a86d-cf2b52fc350b",
   "metadata": {},
   "source": [
    "### Вывод:\n",
    "\n",
    "Мы получили:\n",
    "\n",
    "$$\n",
    "\\sum_{k=1}^\\infty \\frac{\\text{Var}[\\xi_k]}{k^2} = \\sum_{k=1}^\\infty \\frac{\\sqrt{k}}{k^2} = \\sum_{k=1}^\\infty \\frac{1}{k^{3/2}}\n",
    "$$\n",
    "\n",
    "Это **сходящийся числовой ряд**, так как $$ p = \\frac{3}{2} > 1 $$\n",
    "\n",
    "---\n",
    "\n",
    "### Следовательно:\n",
    "\n",
    "По **закону больших чисел в форме Маркова**:\n",
    "$$\n",
    "\\frac{1}{n} \\sum_{k=1}^n \\xi_k \\xrightarrow{P} 0\n",
    "$$\n",
    "\n",
    "То есть, **закон больших чисел выполняется** для данной последовательности $$ \\xi_k $$.\n"
   ]
  },
  {
   "cell_type": "code",
   "execution_count": null,
   "id": "7ed6120a-92fb-4bdc-8cbf-26532ec971da",
   "metadata": {},
   "outputs": [],
   "source": []
  }
 ],
 "metadata": {
  "kernelspec": {
   "display_name": "Python [conda env:base] *",
   "language": "python",
   "name": "conda-base-py"
  },
  "language_info": {
   "codemirror_mode": {
    "name": "ipython",
    "version": 3
   },
   "file_extension": ".py",
   "mimetype": "text/x-python",
   "name": "python",
   "nbconvert_exporter": "python",
   "pygments_lexer": "ipython3",
   "version": "3.12.7"
  }
 },
 "nbformat": 4,
 "nbformat_minor": 5
}
