{
 "cells": [
  {
   "cell_type": "markdown",
   "id": "ad10e092-a07c-4f22-b2c8-67086c1d308e",
   "metadata": {},
   "source": [
    "### 2.3.1. Задача на применение неравенства Чебышева\n",
    "\n",
    "#### Условие\n",
    "Пусть случайная величина $\\eta_n$ равна сумме очков, появившихся при $n$ независимых подбрасываниях честной игральной кости. Используя неравенство Чебышева, оценить вероятность:\n",
    "\n",
    "$$P\\left(\\left|\\frac{\\eta_n}{n} - 3.5\\right| > \\varepsilon\\right) \\leq \\ldots$$\n",
    "\n",
    "Ответ привести для $n = 10$, $\\varepsilon = 1$.\n",
    "\n",
    "### Решение\n",
    "\n",
    "#### Шаг 1: Определим параметры одного броска кости\n",
    "Для честной игральной кости возможные значения: $\\{1, 2, 3, 4, 5, 6\\}$\n",
    "\n",
    "**Математическое ожидание одного броска:**\n",
    "$$E[X] = \\frac{1 + 2 + 3 + 4 + 5 + 6}{6} = \\frac{21}{6} = 3.5$$\n",
    "\n",
    "**Дисперсия одного броска:**\n",
    "$$E[X^2] = \\frac{1^2 + 2^2 + 3^2 + 4^2 + 5^2 + 6^2}{6} = \\frac{1 + 4 + 9 + 16 + 25 + 36}{6} = \\frac{91}{6}$$\n",
    "\n",
    "$$D[X] = E[X^2] - (E[X])^2 = \\frac{91}{6} - \\left(\\frac{21}{6}\\right)^2 = \\frac{91}{6} - \\frac{441}{36} = \\frac{546 - 441}{36} = \\frac{105}{36} = \\frac{35}{12}$$\n",
    "\n",
    "#### Шаг 2: Определим параметры суммы $\\eta_n$\n",
    "$$\\eta_n = X_1 + X_2 + \\ldots + X_n$$\n",
    "\n",
    "где $X_i$ - результат $i$-го броска кости.\n",
    "\n",
    "**Математическое ожидание суммы:**\n",
    "$$E[\\eta_n] = n \\cdot E[X] = n \\cdot 3.5 = 3.5n$$\n",
    "\n",
    "**Дисперсия суммы (для независимых бросков):**\n",
    "$$D[\\eta_n] = n \\cdot D[X] = n \\cdot \\frac{35}{12} = \\frac{35n}{12}$$\n",
    "\n",
    "#### Шаг 3: Найдем параметры выборочного среднего $\\frac{\\eta_n}{n}$\n",
    "\n",
    "**Математическое ожидание:**\n",
    "$$E\\left[\\frac{\\eta_n}{n}\\right] = \\frac{E[\\eta_n]}{n} = \\frac{3.5n}{n} = 3.5$$\n",
    "\n",
    "**Дисперсия:**\n",
    "$$D\\left[\\frac{\\eta_n}{n}\\right] = \\frac{D[\\eta_n]}{n^2} = \\frac{35n/12}{n^2} = \\frac{35}{12n}$$\n",
    "\n",
    "#### Шаг 4: Применим неравенство Чебышева\n",
    "\n",
    "Неравенство Чебышева для случайной величины $Y = \\frac{\\eta_n}{n}$:\n",
    "\n",
    "$$P(|Y - E[Y]| > \\varepsilon) \\leq \\frac{D[Y]}{\\varepsilon^2}$$\n",
    "\n",
    "Подставляем наши значения:\n",
    "$$P\\left(\\left|\\frac{\\eta_n}{n} - 3.5\\right| > \\varepsilon\\right) \\leq \\frac{35/(12n)}{\\varepsilon^2} = \\frac{35}{12n\\varepsilon^2}$$\n",
    "\n",
    "#### Шаг 5: Вычисляем для заданных значений\n",
    "При $n = 10$ и $\\varepsilon = 1$:\n",
    "\n",
    "$$P\\left(\\left|\\frac{\\eta_{10}}{10} - 3.5\\right| > 1\\right) \\leq \\frac{35}{12 \\cdot 10 \\cdot 1^2} = \\frac{35}{120} = \\frac{7}{24} \\approx 0.292$$\n",
    "\n",
    "### Ответ\n",
    "$$P\\left(\\left|\\frac{\\eta_n}{n} - 3.5\\right| > \\varepsilon\\right) \\leq \\frac{35}{12n\\varepsilon^2}$$\n",
    "\n",
    "Для $n = 10$, $\\varepsilon = 1$: $\\leq \\frac{7}{24} \\approx 0.292$\n",
    "\n",
    "---\n",
    "\n",
    "**Только вот вопрос:** В приведенном ответе $\\leq 0.875$ есть ошибка в вычислениях? У меня получился ответ: $\\leq \\frac{7}{24} \\approx 0.292$."
   ]
  },
  {
   "cell_type": "code",
   "execution_count": 44,
   "id": "ef0c01e8-79aa-4dca-ae7e-8063c2fd6dce",
   "metadata": {},
   "outputs": [
    {
     "data": {
      "text/plain": [
       "(0.2916666666666667, 0.2917)"
      ]
     },
     "execution_count": 44,
     "metadata": {},
     "output_type": "execute_result"
    }
   ],
   "source": [
    "from sympy import Rational\n",
    "\n",
    "# Дано:\n",
    "n = 10\n",
    "epsilon = 1\n",
    "\n",
    "# Дисперсия одного броска\n",
    "Dx = Rational(35, 12)\n",
    "\n",
    "# Дисперсия среднего\n",
    "D_mean = Dx / n\n",
    "\n",
    "# Оценка по неравенству Чебышева\n",
    "P_upper = D_mean / epsilon**2\n",
    "float(P_upper), round(P_upper.evalf(), 4)\n"
   ]
  },
  {
   "cell_type": "code",
   "execution_count": null,
   "id": "3f82485c-81da-49c7-ab07-745e82efaf36",
   "metadata": {},
   "outputs": [],
   "source": []
  },
  {
   "cell_type": "markdown",
   "id": "90886693-1bee-495f-bf86-b717455e8131",
   "metadata": {},
   "source": [
    "#### Задание 2.3.2. Закон больших чисел и независимые случайные величины\n",
    "\n",
    "**Условие:**\n",
    "\n",
    "Пусть дана последовательность независимых случайных величин $$ (\\xi_k)_{k=1}^{\\infty} $$ причем:\n",
    "\n",
    "$$\n",
    "P(\\xi_k = \\sqrt{k}) = P(\\xi_k = -\\sqrt{k}) = \\frac{1}{2\\sqrt{k}}, \\quad\n",
    "P(\\xi_k = 0) = 1 - \\frac{1}{\\sqrt{k}}\n",
    "$$\n",
    "\n",
    "Нужно определить, **выполняется ли закон больших чисел** для этой последовательности $$ \\xi_k $$\n",
    "\n"
   ]
  },
  {
   "cell_type": "markdown",
   "id": "481866db-4af2-4bd0-9603-e65ea1be36c5",
   "metadata": {},
   "source": [
    "#### Закон больших чисел в форме Маркова\n",
    "\n",
    "Если последовательность случайных величин ξₖ является независимой и удовлетворяет условиям:\n",
    "\n",
    "- математическое ожидание E[ξₖ] существует (конечно),\n",
    "- и выполнено:\n",
    "  \n",
    "  $$\n",
    "  \\sum_{k=1}^{\\infty} \\frac{\\text{Var}[ξ_k]}{k^2} < \\infty,\n",
    "  $$\n",
    "\n",
    "то выполняется **закон больших чисел** в форме Маркова для последовательности средних:\n",
    "\n",
    "$$\n",
    "\\frac{1}{n} \\sum_{k=1}^{n} ξ_k \\to 0 \\quad \\text{(по вероятности)}\n",
    "$$\n",
    "\n",
    "---\n",
    "\n",
    "### Шаг 1. Математическое ожидание и дисперсия\n",
    "\n",
    "Каждая случайная величина ξₖ принимает три значения:\n",
    "\n",
    "- ±√k с вероятностью 1 / (2√k),\n",
    "- 0 с вероятностью 1 − (1 / √k).\n",
    "\n",
    "---\n",
    "\n",
    "#### Математическое ожидание:\n",
    "\n",
    "$$\n",
    "E[ξ_k] = \\sqrt{k} \\cdot \\frac{1}{2\\sqrt{k}} + (-\\sqrt{k}) \\cdot \\frac{1}{2\\sqrt{k}} + 0 \\cdot \\left(1 - \\frac{1}{\\sqrt{k}}\\right) = 0\n",
    "$$\n",
    "\n",
    "---\n",
    "\n",
    "#### Дисперсия:\n",
    "\n",
    "$$\n",
    "E[ξ_k^2] = (\\sqrt{k})^2 \\cdot \\frac{1}{2\\sqrt{k}} + (-\\sqrt{k})^2 \\cdot \\frac{1}{2\\sqrt{k}} = k \\cdot \\left( \\frac{1}{\\sqrt{k}} \\right) = \\sqrt{k}\n",
    "$$\n",
    "\n",
    "#### Значит:\n",
    "\n",
    "$$\n",
    "\\text{Var}[ξ_k] = E[ξ_k^2] - (E[ξ_k])^2 = \\sqrt{k}\n",
    "$$\n"
   ]
  },
  {
   "cell_type": "code",
   "execution_count": 27,
   "id": "fea12142-9135-4d14-a67d-6eb4be86e5ea",
   "metadata": {},
   "outputs": [
    {
     "data": {
      "text/latex": [
       "$\\displaystyle 2.61237534868549$"
      ],
      "text/plain": [
       "2.61237534868549"
      ]
     },
     "execution_count": 27,
     "metadata": {},
     "output_type": "execute_result"
    }
   ],
   "source": [
    "from sympy import symbols, Sum, sqrt, oo\n",
    "\n",
    "k = symbols('k', integer=True, positive=True)\n",
    "term = sqrt(k) / k**2  # Var[ξ_k] / k²\n",
    "series = Sum(term, (k, 1, oo))\n",
    "series.doit().evalf()\n"
   ]
  },
  {
   "cell_type": "markdown",
   "id": "2d3944fa-c4d7-47ae-a86d-cf2b52fc350b",
   "metadata": {},
   "source": [
    "### Вывод:\n",
    "\n",
    "Мы получили:\n",
    "\n",
    "$$\n",
    "\\sum_{k=1}^\\infty \\frac{\\text{Var}[\\xi_k]}{k^2} = \\sum_{k=1}^\\infty \\frac{\\sqrt{k}}{k^2} = \\sum_{k=1}^\\infty \\frac{1}{k^{3/2}}\n",
    "$$\n",
    "\n",
    "Это **сходящийся числовой ряд**, так как $$ p = \\frac{3}{2} > 1 $$\n",
    "\n",
    "---\n",
    "\n",
    "### Следовательно:\n",
    "\n",
    "По **закону больших чисел в форме Маркова**:\n",
    "$$\n",
    "\\frac{1}{n} \\sum_{k=1}^n \\xi_k \\xrightarrow{P} 0\n",
    "$$\n",
    "\n",
    "То есть, **закон больших чисел выполняется** для данной последовательности $$ \\xi_k $$.\n"
   ]
  },
  {
   "cell_type": "code",
   "execution_count": null,
   "id": "ce5608e1-7222-470c-ab58-3b9488c41fe7",
   "metadata": {},
   "outputs": [],
   "source": []
  }
 ],
 "metadata": {
  "kernelspec": {
   "display_name": "Python [conda env:base] *",
   "language": "python",
   "name": "conda-base-py"
  },
  "language_info": {
   "codemirror_mode": {
    "name": "ipython",
    "version": 3
   },
   "file_extension": ".py",
   "mimetype": "text/x-python",
   "name": "python",
   "nbconvert_exporter": "python",
   "pygments_lexer": "ipython3",
   "version": "3.12.7"
  }
 },
 "nbformat": 4,
 "nbformat_minor": 5
}
