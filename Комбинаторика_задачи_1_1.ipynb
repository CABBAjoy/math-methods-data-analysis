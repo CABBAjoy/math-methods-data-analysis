{
 "cells": [
  {
   "cell_type": "markdown",
   "metadata": {},
   "source": [
    "# Комбинаторика — задачи по материалам Шихановой\n",
    "Решение трёх задач с использованием базовых комбинаторных моделей: размещения, сочетания, правило произведения."
   ]
  },
  {
   "cell_type": "markdown",
   "metadata": {},
   "source": [
    "## Задача 1\n",
    "**Условие:** В поезде 9 вагонов. Сколькими способами можно посадить в него 4 человека так, чтобы все они оказались в различных вагонах?\n",
    "\n",
    "**Решение:**\n",
    "Выбираем 4 разных вагона из 9 и рассаживаем туда 4 человек — порядок важен, без повторений.\n",
    "Это размещения без повторений: $A^4_9 = \\frac{9!}{(9 - 4)!}$"
   ]
  },
  {
   "cell_type": "code",
   "execution_count": 5,
   "metadata": {},
   "outputs": [
    {
     "data": {
      "text/plain": [
       "3024"
      ]
     },
     "execution_count": 5,
     "metadata": {},
     "output_type": "execute_result"
    }
   ],
   "source": [
    "import math\n",
    "A_9_4 = math.perm(9, 4)  # Размещения без повторений\n",
    "A_9_4"
   ]
  },
  {
   "cell_type": "markdown",
   "metadata": {},
   "source": [
    "## Задача 2\n",
    "**Условие:** Автомобильный номер состоит из 3 цифр (от 0 до 9, но не все нули) и 3 букв из набора из 12 русских букв.\n",
    "\n",
    "**Решение:**\n",
    "- Всего цифровых комбинаций: $10^3 = 1000$, но исключаем 000.\n",
    "- Всего буквенных комбинаций: $12^3 = 1728$\n",
    "- Общее число номеров: $999 \\times 1728$"
   ]
  },
  {
   "cell_type": "code",
   "execution_count": 7,
   "metadata": {},
   "outputs": [
    {
     "data": {
      "text/plain": [
       "1726272"
      ]
     },
     "execution_count": 7,
     "metadata": {},
     "output_type": "execute_result"
    }
   ],
   "source": [
    "digit_variants = 10**3 - 1  # исключаем 000\n",
    "letter_variants = 12**3\n",
    "total_plates = digit_variants * letter_variants\n",
    "total_plates"
   ]
  },
  {
   "cell_type": "markdown",
   "metadata": {},
   "source": [
    "## Задача 3\n",
    "**Условие:** Команда из 6 человек заказывает кофе. Доступно 5 видов: капучино, латте, флет уайт, кортадо, раф. \n",
    "Сколькими способами можно сделать заказ?\n",
    "\n",
    "**Решение:**\n",
    "Это задача на **сочетания с повторениями**, так как важно только количество напитков каждого вида, а не кто что пьет.\n",
    "\n",
    "**Формула:** $\\overline{C}_n^k = C_{n+k-1}^k$\n",
    "\n",
    "где:\n",
    "- $n = 5$ (количество видов кофе)  \n",
    "- $k = 6$ (количество напитков)\n",
    "\n",
    "$\\overline{C}_5^6 = C_{5+6-1}^6 = C_{10}^6$\n"
   ]
  },
  {
   "cell_type": "code",
   "execution_count": 26,
   "metadata": {},
   "outputs": [
    {
     "name": "stdout",
     "output_type": "stream",
     "text": [
      "n = 5, k = 6\n",
      "C̄_5^6 = C_10^6 = 210\n"
     ]
    }
   ],
   "source": [
    "import math\n",
    "\n",
    "# Данные\n",
    "n = 5  # виды кофе\n",
    "k = 6  # количество напитков\n",
    "\n",
    "# Сочетания с повторениями: C_bar(n,k) = C(n+k-1, k)\n",
    "result = math.comb(n + k - 1, k)\n",
    "\n",
    "print(f\"n = {n}, k = {k}\")\n",
    "print(f\"C̄_5^6 = C_10^6 = {result}\")"
   ]
  },
  {
   "cell_type": "code",
   "execution_count": null,
   "metadata": {},
   "outputs": [],
   "source": []
  }
 ],
 "metadata": {
  "kernelspec": {
   "display_name": "Python [conda env:base] *",
   "language": "python",
   "name": "conda-base-py"
  },
  "language_info": {
   "codemirror_mode": {
    "name": "ipython",
    "version": 3
   },
   "file_extension": ".py",
   "mimetype": "text/x-python",
   "name": "python",
   "nbconvert_exporter": "python",
   "pygments_lexer": "ipython3",
   "version": "3.12.7"
  }
 },
 "nbformat": 4,
 "nbformat_minor": 4
}
