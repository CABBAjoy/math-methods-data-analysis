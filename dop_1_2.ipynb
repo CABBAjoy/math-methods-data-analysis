{
 "cells": [
  {
   "cell_type": "markdown",
   "id": "7344295a-049f-435d-a7a2-937e8b690a68",
   "metadata": {},
   "source": [
    "#### Дополнительные задачи для самостоятельной практики к теме 1.2"
   ]
  },
  {
   "cell_type": "markdown",
   "id": "b183a7f2-bec5-4a4f-9b08-0646499386f3",
   "metadata": {},
   "source": [
    "#### Задание 1. Может ли число всех событий вероятностного пространства быть равным 65; 66; 64?\n",
    "\n",
    "Рассмотрим, что означает \"число всех событий\". \n",
    "\n",
    "Если $\\Omega$ — конечное пространство элементарных исходов и $|\\Omega| = n$, \n",
    "то общее число событий (подмножеств множества $\\Omega$) равно:\n",
    "\n",
    "$$\n",
    "|2^\\Omega| = 2^n\n",
    "$$\n",
    "\n",
    "То есть число **всех событий** всегда степень двойки.\n",
    "\n",
    "Проверим, могут ли 64, 65, 66 быть такими значениями.\n"
   ]
  },
  {
   "cell_type": "code",
   "execution_count": 4,
   "id": "952ddc5c-a1dd-4b18-84ac-5677489c1ed6",
   "metadata": {},
   "outputs": [
    {
     "data": {
      "text/plain": [
       "{64: True, 65: False, 66: False}"
      ]
     },
     "execution_count": 4,
     "metadata": {},
     "output_type": "execute_result"
    }
   ],
   "source": [
    "# Проверка, являются ли данные числа степенями двойки\n",
    "def is_power_of_two(x):\n",
    "    return x > 0 and (x & (x - 1)) == 0\n",
    "\n",
    "numbers = [64, 65, 66]\n",
    "results = {n: is_power_of_two(n) for n in numbers}\n",
    "results\n"
   ]
  },
  {
   "cell_type": "markdown",
   "id": "1abf3149-23e7-42d0-bc58-f0c546d3b7f5",
   "metadata": {},
   "source": [
    "**Вывод:**\n",
    "- Только число 64 — допустимое число всех событий.\n",
    "- 65 и 66 не могут быть числом всех событий, так как не являются степенями двойки.\n"
   ]
  },
  {
   "cell_type": "markdown",
   "id": "d2042a42-c9bd-4239-a86b-adee0a6fb253",
   "metadata": {},
   "source": [
    "#### Задание 2. Выборка из урны (m шаров, n извлечений)\n",
    "\n",
    "Рассматриваются два способа:\n",
    "- **С возвращением**\n",
    "- **Без возвращения**\n",
    "\n",
    "#### A) Упорядоченная выборка\n",
    "\n",
    "##### 1) С возвращением:\n",
    "Каждое извлечение — выбор из m элементов, всего n раз:\n",
    "$$\n",
    "|\\Omega| = m^n\n",
    "$$\n",
    "\n",
    "##### 2) Без возвращения:\n",
    "На каждом шаге количество доступных элементов уменьшается:\n",
    "$$\n",
    "|\\Omega| = \\frac{m!}{(m - n)!}\n",
    "$$\n",
    "\n",
    "#### B) Неупорядоченная выборка\n",
    "\n",
    "##### 1) С возвращением:\n",
    "Элементы можно выбирать повторно, порядок не важен.\n",
    "Это сочетание с повторениями:\n",
    "$$\n",
    "|\\Omega| = C_{m + n - 1}^n = \\binom{m + n - 1}{n}\n",
    "$$\n",
    "\n",
    "##### 2) Без возвращения:\n",
    "Классическое сочетание:\n",
    "$$\n",
    "|\\Omega| = C_m^n = \\binom{m}{n}\n",
    "$$\n"
   ]
  },
  {
   "cell_type": "code",
   "execution_count": 10,
   "id": "035e1202-a9f2-4fbb-8547-82fa35d66116",
   "metadata": {},
   "outputs": [
    {
     "data": {
      "text/plain": [
       "{'Упорядоченная, с возвращением': 1000,\n",
       " 'Упорядоченная, без возвращения': 720,\n",
       " 'Неупорядоченная, с возвращением': 220,\n",
       " 'Неупорядоченная, без возвращения': 120}"
      ]
     },
     "execution_count": 10,
     "metadata": {},
     "output_type": "execute_result"
    }
   ],
   "source": [
    "import math\n",
    "\n",
    "def combinations(n, k):\n",
    "    return math.comb(n, k)\n",
    "\n",
    "def permutations(m, n):\n",
    "    return math.perm(m, n)\n",
    "\n",
    "# Пример: m = 10, n = 3\n",
    "m, n = 10, 3\n",
    "\n",
    "ordered_with_replacement = m ** n\n",
    "ordered_without_replacement = permutations(m, n)\n",
    "\n",
    "unordered_with_replacement = combinations(m + n - 1, n)\n",
    "unordered_without_replacement = combinations(m, n)\n",
    "\n",
    "{\n",
    "    \"Упорядоченная, с возвращением\": ordered_with_replacement,\n",
    "    \"Упорядоченная, без возвращения\": ordered_without_replacement,\n",
    "    \"Неупорядоченная, с возвращением\": unordered_with_replacement,\n",
    "    \"Неупорядоченная, без возвращения\": unordered_without_replacement\n",
    "}\n"
   ]
  },
  {
   "cell_type": "markdown",
   "id": "e5e7018c-e37e-4b46-a432-d36ba0b20629",
   "metadata": {},
   "source": [
    "#### Задание 3. Подбрасывание монеты до r-го герба\n",
    "\n",
    "Честная монета подбрасывается, пока не выпадет $r$ гербов.\n",
    "\n",
    "Каждое подбрасывание — результат: \"H\" (герб) или \"T\" (решка).\n",
    "\n",
    "Событие: **эксперимент заканчивается после n-го подбрасывания** означает:\n",
    "- в первых $(n - 1)$ подбрасываниях — ровно $(r - 1)$ гербов,\n",
    "- на $n$-м подбрасывании — обязательно герб.\n",
    "\n",
    "Нужно:\n",
    "- посчитать, сколько строк длины $n$, в которых $r - 1$ гербов в первых $n - 1$ позициях\n",
    "- последний — герб\n",
    "\n",
    "Это эквивалентно:\n",
    "$$\n",
    "\\text{Число таких последовательностей} = \\binom{n - 1}{r - 1}\n",
    "$$\n",
    "\n",
    "Подставим $n = 20$, $r = 5$:\n"
   ]
  },
  {
   "cell_type": "code",
   "execution_count": 13,
   "id": "3c1ecef1-7de0-49c5-a075-aea51a934cb2",
   "metadata": {},
   "outputs": [
    {
     "data": {
      "text/plain": [
       "3876"
      ]
     },
     "execution_count": 13,
     "metadata": {},
     "output_type": "execute_result"
    }
   ],
   "source": [
    "n = 20\n",
    "r = 5\n",
    "\n",
    "elementary_events = combinations(n - 1, r - 1)\n",
    "elementary_events\n"
   ]
  },
  {
   "cell_type": "markdown",
   "id": "75d3732e-0553-43df-a4a2-deb8b8307116",
   "metadata": {},
   "source": [
    "**Ответ:**\n",
    "Количество элементарных исходов, при которых эксперимент заканчивается на 20-м подбрасывании, равно $$\n",
    "\\binom{19}{4} = 3876\n",
    "$$\n"
   ]
  },
  {
   "cell_type": "code",
   "execution_count": null,
   "id": "d1c201e7-956a-467a-a3f9-83c53361fe6e",
   "metadata": {},
   "outputs": [],
   "source": []
  }
 ],
 "metadata": {
  "kernelspec": {
   "display_name": "Python [conda env:base] *",
   "language": "python",
   "name": "conda-base-py"
  },
  "language_info": {
   "codemirror_mode": {
    "name": "ipython",
    "version": 3
   },
   "file_extension": ".py",
   "mimetype": "text/x-python",
   "name": "python",
   "nbconvert_exporter": "python",
   "pygments_lexer": "ipython3",
   "version": "3.12.7"
  }
 },
 "nbformat": 4,
 "nbformat_minor": 5
}
