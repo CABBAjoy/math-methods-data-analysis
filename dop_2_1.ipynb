{
 "cells": [
  {
   "cell_type": "markdown",
   "id": "8c025df5-4fd9-4b82-9aff-1443c3d65421",
   "metadata": {},
   "source": [
    "## Абсолютно непрерывное распределение. Плотность с индикатором\n",
    "\n",
    "Рассмотрим случайную величину $$ \\xi $$, имеющую плотность:\n",
    "\n",
    "$$\n",
    "p(x) = C \\cdot x^{-3/2} \\cdot \\mathbb{I}_{[1, \\infty)}\n",
    "$$\n",
    "\n",
    "где $$ \\mathbb{I}_{[1, \\infty)} $$ — индикатор множества: функция, равная 1 при $$ x \\in [1, \\infty) $$, и 0 в противном случае.\n",
    "\n",
    "---\n",
    "\n",
    "### Задача 1. Найти константу $$ C $$\n",
    "\n",
    "Требование нормировки:\n",
    "\n",
    "$$\n",
    "\\int_{-\\infty}^{\\infty} p(x) \\, dx = 1\n",
    "$$\n",
    "\n",
    "Учитывая область действия индикатора:\n",
    "\n",
    "$$\n",
    "\\int_1^{\\infty} C \\cdot x^{-3/2} \\, dx = 1\n",
    "$$\n",
    "\n",
    "Вынесем $$ C $$ за знак интеграла:\n",
    "\n",
    "$$\n",
    "C \\cdot \\int_1^{\\infty} x^{-3/2} \\, dx = 1\n",
    "$$\n",
    "\n",
    "Решим интеграл:\n",
    "\n",
    "$$\n",
    "\\int_1^{\\infty} x^{-3/2} \\, dx = \\left[ \\frac{x^{-1/2}}{-1/2} \\right]_1^{\\infty} = 2\n",
    "$$\n",
    "\n",
    "Отсюда:\n",
    "\n",
    "$$\n",
    "C = \\frac{1}{2}\n",
    "$$\n"
   ]
  },
  {
   "cell_type": "code",
   "execution_count": 6,
   "id": "2765c245-00c3-4058-b665-2fdf91642def",
   "metadata": {},
   "outputs": [
    {
     "data": {
      "text/latex": [
       "$\\displaystyle 0.5$"
      ],
      "text/plain": [
       "0.500000000000000"
      ]
     },
     "execution_count": 6,
     "metadata": {},
     "output_type": "execute_result"
    }
   ],
   "source": [
    "from sympy import symbols, integrate, oo\n",
    "\n",
    "x = symbols('x')\n",
    "integral = integrate(x**(-3/2), (x, 1, oo))\n",
    "C = 1 / integral\n",
    "C.evalf()\n"
   ]
  },
  {
   "cell_type": "markdown",
   "id": "d8fd723e-9e2a-4e18-b39a-a866b84f0b27",
   "metadata": {},
   "source": [
    "### Задача 2. Найти вероятность\n",
    "\n",
    "Вычислить:\n",
    "\n",
    "$$\n",
    "P\\left( \\frac{1}{10} < \\frac{1}{\\xi} < \\frac{1}{5} \\right)\n",
    "$$\n"
   ]
  },
  {
   "cell_type": "markdown",
   "id": "e8ac5fef-04e5-4394-ad58-411db08d8cf3",
   "metadata": {},
   "source": [
    "$P\\left(\\frac{1}{10} < \\frac{1}{\\xi} < \\frac{1}{5}\\right) = P(5 < \\xi < 10)$\n",
    "$= \\int_{5}^{10} \\frac{1}{2} x^{-3/2} dx = \\frac{1}{2} \\left[-2x^{-1/2}\\right]_{5}^{10}$\n",
    "$= \\frac{1}{2} \\left(-\\frac{2}{\\sqrt{10}} + \\frac{2}{\\sqrt{5}}\\right) = \\frac{1}{\\sqrt{5}} - \\frac{1}{\\sqrt{10}}$\n",
    "$= \\frac{1}{\\sqrt{5}} - \\frac{1}{\\sqrt{2}\\sqrt{5}} = \\frac{1}{\\sqrt{5}}\\left(1 - \\frac{1}{\\sqrt{2}}\\right)$\n",
    "$= \\frac{1}{\\sqrt{5}} \\cdot \\frac{\\sqrt{2}-1}{\\sqrt{2}} = \\frac{\\sqrt{2}-1}{\\sqrt{10}}$\n",
    "\n",
    "**Ответ:** $P\\left(\\frac{1}{10} < \\frac{1}{\\xi} < \\frac{1}{5}\\right) = \\frac{\\sqrt{2}-1}{\\sqrt{10}} \\approx 0.1309$"
   ]
  },
  {
   "cell_type": "code",
   "execution_count": 29,
   "id": "051fe0e4-ed68-4f2d-b7d3-ea740ea972f3",
   "metadata": {},
   "outputs": [
    {
     "name": "stdout",
     "output_type": "stream",
     "text": [
      "P(5 < ξ < 10) = -1/√10 - (-1/√5) = 1/√5 - 1/√10\n",
      "= 0.130986\n",
      "\n",
      "Точный ответ: (√2 - 1)/√10 = 0.1310\n"
     ]
    }
   ],
   "source": [
    "import math\n",
    "\n",
    "# Вычисляем P(5 < ξ < 10) = ∫₅¹⁰ (1/2)x^(-3/2) dx\n",
    "# Первообразная: (1/2) * (-2x^(-1/2)) = -x^(-1/2) = -1/√x\n",
    "\n",
    "upper_limit = -1/math.sqrt(10)  # при x = 10\n",
    "lower_limit = -1/math.sqrt(5)   # при x = 5\n",
    "\n",
    "probability = upper_limit - lower_limit\n",
    "print(f\"P(5 < ξ < 10) = -1/√10 - (-1/√5) = 1/√5 - 1/√10\")\n",
    "print(f\"= {probability:.6f}\")\n",
    "\n",
    "# Точная формула: (√2 - 1)/√10\n",
    "exact_answer = (math.sqrt(2) - 1) / math.sqrt(10)\n",
    "print(f\"\\nТочный ответ: (√2 - 1)/√10 = {exact_answer:.4f}\")"
   ]
  },
  {
   "cell_type": "code",
   "execution_count": null,
   "id": "30b59aba-1ee8-4fb5-aaef-4d49d037de0c",
   "metadata": {},
   "outputs": [],
   "source": []
  }
 ],
 "metadata": {
  "kernelspec": {
   "display_name": "Python [conda env:base] *",
   "language": "python",
   "name": "conda-base-py"
  },
  "language_info": {
   "codemirror_mode": {
    "name": "ipython",
    "version": 3
   },
   "file_extension": ".py",
   "mimetype": "text/x-python",
   "name": "python",
   "nbconvert_exporter": "python",
   "pygments_lexer": "ipython3",
   "version": "3.12.7"
  }
 },
 "nbformat": 4,
 "nbformat_minor": 5
}
