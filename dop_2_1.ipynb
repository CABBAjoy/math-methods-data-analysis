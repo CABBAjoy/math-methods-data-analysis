{
 "cells": [
  {
   "cell_type": "markdown",
   "id": "8c025df5-4fd9-4b82-9aff-1443c3d65421",
   "metadata": {},
   "source": [
    "## Абсолютно непрерывное распределение. Плотность с индикатором\n",
    "\n",
    "Рассмотрим случайную величину $$ \\xi $$, имеющую плотность:\n",
    "\n",
    "$$\n",
    "p(x) = C \\cdot x^{-3/2} \\cdot \\mathbb{I}_{[1, \\infty)}\n",
    "$$\n",
    "\n",
    "где $$ \\mathbb{I}_{[1, \\infty)} $$ — индикатор множества: функция, равная 1 при $$ x \\in [1, \\infty) $$, и 0 в противном случае.\n",
    "\n",
    "---\n",
    "\n",
    "### Задача 1. Найти константу $$ C $$\n",
    "\n",
    "Требование нормировки:\n",
    "\n",
    "$$\n",
    "\\int_{-\\infty}^{\\infty} p(x) \\, dx = 1\n",
    "$$\n",
    "\n",
    "Учитывая область действия индикатора:\n",
    "\n",
    "$$\n",
    "\\int_1^{\\infty} C \\cdot x^{-3/2} \\, dx = 1\n",
    "$$\n",
    "\n",
    "Вынесем $$ C $$ за знак интеграла:\n",
    "\n",
    "$$\n",
    "C \\cdot \\int_1^{\\infty} x^{-3/2} \\, dx = 1\n",
    "$$\n",
    "\n",
    "Решим интеграл:\n",
    "\n",
    "$$\n",
    "\\int_1^{\\infty} x^{-3/2} \\, dx = \\left[ \\frac{x^{-1/2}}{-1/2} \\right]_1^{\\infty} = 2\n",
    "$$\n",
    "\n",
    "Отсюда:\n",
    "\n",
    "$$\n",
    "C = \\frac{1}{2}\n",
    "$$\n"
   ]
  },
  {
   "cell_type": "code",
   "execution_count": 6,
   "id": "2765c245-00c3-4058-b665-2fdf91642def",
   "metadata": {},
   "outputs": [
    {
     "data": {
      "text/latex": [
       "$\\displaystyle 0.5$"
      ],
      "text/plain": [
       "0.500000000000000"
      ]
     },
     "execution_count": 6,
     "metadata": {},
     "output_type": "execute_result"
    }
   ],
   "source": [
    "from sympy import symbols, integrate, oo\n",
    "\n",
    "x = symbols('x')\n",
    "integral = integrate(x**(-3/2), (x, 1, oo))\n",
    "C = 1 / integral\n",
    "C.evalf()\n"
   ]
  },
  {
   "cell_type": "markdown",
   "id": "d8fd723e-9e2a-4e18-b39a-a866b84f0b27",
   "metadata": {},
   "source": [
    "### Задача 2. Найти вероятность\n",
    "\n",
    "Вычислить:\n",
    "\n",
    "$$\n",
    "P\\left( \\frac{1}{10} < \\frac{1}{\\xi} < \\frac{1}{5} \\right)\n",
    "$$\n",
    "\n",
    "Перепишем неравенство через $$ \\xi $$\n",
    "\n",
    "$$\n",
    "\\frac{1}{10} < \\frac{1}{\\xi} < \\frac{1}{5} \\Rightarrow 5 < \\xi < 10\n",
    "$$\n",
    "\n",
    "(так как $$ \\xi > 0 $$, переворачиваем знаки)\n",
    "\n",
    "Теперь вероятность:\n",
    "\n",
    "$$\n",
    "P(5 < \\xi < 10) = \\int_5^{10} p(x) \\, dx = \\int_5^{10} \\frac{1}{2} \\cdot x^{-3/2} \\, dx\n",
    "$$\n"
   ]
  },
  {
   "cell_type": "code",
   "execution_count": 15,
   "id": "84d538fd-28f3-4c16-9bf0-07a438a9120c",
   "metadata": {},
   "outputs": [
    {
     "data": {
      "text/latex": [
       "$\\displaystyle 0.131$"
      ],
      "text/plain": [
       "0.1310"
      ]
     },
     "execution_count": 15,
     "metadata": {},
     "output_type": "execute_result"
    }
   ],
   "source": [
    "# Вычисление вероятности: P(5 < ξ < 10)\n",
    "prob = integrate(C * x**(-3/2), (x, 5, 10))\n",
    "round(prob.evalf(), 4)\n"
   ]
  },
  {
   "cell_type": "markdown",
   "id": "e6307c8c-9711-4539-8e2e-aa720719aab9",
   "metadata": {},
   "source": [
    "### Ответы:\n",
    "\n",
    "1. Нормировочная константа:\n",
    "   $$ C = \\frac{1}{2} $$\n",
    "\n",
    "2. Вероятность:\n",
    "   $$ P\\left( \\frac{1}{10} < \\frac{1}{\\xi} < \\frac{1}{5} \\right) = \\boxed{0.1310} $$\n"
   ]
  },
  {
   "cell_type": "code",
   "execution_count": null,
   "id": "051fe0e4-ed68-4f2d-b7d3-ea740ea972f3",
   "metadata": {},
   "outputs": [],
   "source": []
  }
 ],
 "metadata": {
  "kernelspec": {
   "display_name": "Python [conda env:base] *",
   "language": "python",
   "name": "conda-base-py"
  },
  "language_info": {
   "codemirror_mode": {
    "name": "ipython",
    "version": 3
   },
   "file_extension": ".py",
   "mimetype": "text/x-python",
   "name": "python",
   "nbconvert_exporter": "python",
   "pygments_lexer": "ipython3",
   "version": "3.12.7"
  }
 },
 "nbformat": 4,
 "nbformat_minor": 5
}
