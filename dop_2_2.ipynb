{
 "cells": [
  {
   "cell_type": "markdown",
   "id": "2731a892-1b8e-4170-9139-bc46ba4993e1",
   "metadata": {},
   "source": [
    "## Расстояние от случайной точки в круге до центра\n",
    "\n",
    "Рассматривается случайная точка \\( A \\), которая **равномерно распределена в круге радиуса** $$ R = 3 $$  \n",
    "Обозначим $$ \\xi $$ — расстояние от этой точки до центра круга.\n",
    "\n",
    "Найти:\n",
    "\n",
    "1. Найти математическое ожидание расстояния 𝜉 от точки 𝐴 до центра круга.\n",
    "\n",
    "2. Найти дисперсию 𝜉\n",
    "\n",
    "\n",
    "---\n",
    "\n",
    "\n",
    "Плотность равномерного распределения на круге:\n",
    "$$\n",
    "f(x, y) = \\frac{1}{\\pi R^2}, \\quad \\text{при } x^2 + y^2 \\leq R^2\n",
    "$$\n",
    "\n",
    "Но нужны не координаты, а **модуль радиуса** (расстояние до центра):\n",
    "$$\n",
    "\\xi = r = \\sqrt{x^2 + y^2}\n",
    "$$\n",
    "\n",
    "Распределение \\( r \\) имеет плотность:\n",
    "$$\n",
    "p(r) = \\frac{2r}{R^2}, \\quad r \\in [0, R]\n",
    "$$\n",
    "\n"
   ]
  },
  {
   "cell_type": "code",
   "execution_count": 12,
   "id": "3407011c-a17a-4625-a54c-79e162d35ac6",
   "metadata": {},
   "outputs": [
    {
     "data": {
      "text/plain": [
       "(2*R/3, R**2/18)"
      ]
     },
     "execution_count": 12,
     "metadata": {},
     "output_type": "execute_result"
    }
   ],
   "source": [
    "from sympy import symbols, integrate, simplify\n",
    "\n",
    "r, R = symbols('r R', positive=True)\n",
    "\n",
    "# Плотность расстояния ξ от центра: p(r) = 2r / R²\n",
    "p = 2 * r / R**2\n",
    "\n",
    "# E[ξ] = ∫₀ᴿ r * p(r) dr = ∫₀ᴿ r * (2r / R²) dr = ∫₀ᴿ (2r² / R²) dr\n",
    "E = integrate(2 * r**2 / R**2, (r, 0, R))\n",
    "E = simplify(E)\n",
    "\n",
    "# E[ξ²] = ∫₀ᴿ r² * p(r) dr = ∫₀ᴿ (2r³ / R²) dr\n",
    "E2 = integrate(2 * r**3 / R**2, (r, 0, R))\n",
    "E2 = simplify(E2)\n",
    "\n",
    "# D[ξ] = E[ξ²] - (E[ξ])²\n",
    "D = simplify(E2 - E**2)\n",
    "\n",
    "E, D\n"
   ]
  },
  {
   "cell_type": "code",
   "execution_count": 14,
   "id": "5f252a12-325c-4f0f-a9c9-79f0c1259458",
   "metadata": {},
   "outputs": [
    {
     "data": {
      "text/plain": [
       "(2.00000000000000, 0.5000)"
      ]
     },
     "execution_count": 14,
     "metadata": {},
     "output_type": "execute_result"
    }
   ],
   "source": [
    "# Подставим R = 3\n",
    "E_val = E.subs(R, 3).evalf()\n",
    "D_val = D.subs(R, 3).evalf()\n",
    "\n",
    "round(E_val, 4), round(D_val, 4)\n"
   ]
  },
  {
   "cell_type": "markdown",
   "id": "8b1a5e01-9dd8-4f92-b6b1-377b213584c2",
   "metadata": {},
   "source": [
    "### Ответ:\n",
    "\n",
    "1. Математическое ожидание расстояния:\n",
    "   $$ E[\\xi] = \\frac{2R}{3} = 2 $$ при \\( R = 3 \\)\n",
    "\n",
    "2. Дисперсия:\n",
    "   $$ D[\\xi] = \\frac{R^2}{18} = 0.5 $$ при \\( R = 3 \\)\n"
   ]
  },
  {
   "cell_type": "code",
   "execution_count": null,
   "id": "2cace6d8-3a5c-42f4-b093-2af0bd2fc0c5",
   "metadata": {},
   "outputs": [],
   "source": []
  }
 ],
 "metadata": {
  "kernelspec": {
   "display_name": "Python [conda env:base] *",
   "language": "python",
   "name": "conda-base-py"
  },
  "language_info": {
   "codemirror_mode": {
    "name": "ipython",
    "version": 3
   },
   "file_extension": ".py",
   "mimetype": "text/x-python",
   "name": "python",
   "nbconvert_exporter": "python",
   "pygments_lexer": "ipython3",
   "version": "3.12.7"
  }
 },
 "nbformat": 4,
 "nbformat_minor": 5
}
